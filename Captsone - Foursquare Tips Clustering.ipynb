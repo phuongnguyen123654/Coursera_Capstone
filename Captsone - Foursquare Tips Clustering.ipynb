{
    "nbformat_minor": 1, 
    "cells": [
        {
            "source": "# Report", 
            "cell_type": "markdown", 
            "metadata": {}
        }, 
        {
            "execution_count": 1, 
            "cell_type": "code", 
            "metadata": {}, 
            "outputs": [], 
            "source": "# The code was removed by Watson Studio for sharing."
        }, 
        {
            "source": "#### Preparation and imports", 
            "cell_type": "markdown", 
            "metadata": {}
        }, 
        {
            "execution_count": 2, 
            "cell_type": "code", 
            "metadata": {}, 
            "outputs": [
                {
                    "output_type": "stream", 
                    "name": "stdout", 
                    "text": "Fetching package metadata .............\nSolving package specifications: .\n\nPackage plan for installation in environment /opt/conda/envs/DSX-Python35:\n\nThe following NEW packages will be INSTALLED:\n\n    cymem:         1.31.2-py35_0         conda-forge\n    dill:          0.2.8.2-py35_0        conda-forge\n    msgpack-numpy: 0.4.1-py_0            conda-forge\n    murmurhash:    0.28.0-py35hfc679d8_0 conda-forge\n    plac:          0.9.6-py_1            conda-forge\n    preshed:       1.0.1-py35hfc679d8_0  conda-forge\n    regex:         2017.11.09-py35_0     conda-forge\n    spacy:         2.0.11-py35hf8a1672_1 conda-forge\n    termcolor:     1.1.0-py_2            conda-forge\n    thinc:         6.10.3-py35hf8a1672_1 conda-forge\n    ujson:         1.35-py35h470a237_1   conda-forge\n\ncymem-1.31.2-p 100% |################################| Time: 0:00:00 218.33 kB/s\ndill-0.2.8.2-p 100% |################################| Time: 0:00:00 479.57 kB/s\nmurmurhash-0.2 100% |################################| Time: 0:00:00 504.97 kB/s\nplac-0.9.6-py_ 100% |################################| Time: 0:00:00  12.30 MB/s\nregex-2017.11. 100% |################################| Time: 0:00:01   1.14 MB/s\ntermcolor-1.1. 100% |################################| Time: 0:00:00   8.33 MB/s\nujson-1.35-py3 100% |################################| Time: 0:00:00  41.58 MB/s\nmsgpack-numpy- 100% |################################| Time: 0:00:00   6.94 MB/s\npreshed-1.0.1- 100% |################################| Time: 0:00:00   3.40 MB/s\nthinc-6.10.3-p 100% |################################| Time: 0:00:01   3.55 MB/s\nspacy-2.0.11-p 100% |################################| Time: 0:00:02  17.81 MB/s\nCollecting https://github.com/explosion/spacy-models/releases/download/en_core_web_sm-2.0.0/en_core_web_sm-2.0.0.tar.gz\n  Downloading https://github.com/explosion/spacy-models/releases/download/en_core_web_sm-2.0.0/en_core_web_sm-2.0.0.tar.gz (37.4MB)\n\u001b[K    100% |\u2588\u2588\u2588\u2588\u2588\u2588\u2588\u2588\u2588\u2588\u2588\u2588\u2588\u2588\u2588\u2588\u2588\u2588\u2588\u2588\u2588\u2588\u2588\u2588\u2588\u2588\u2588\u2588\u2588\u2588\u2588\u2588| 37.4MB 23.8MB/s ta 0:00:01    76% |\u2588\u2588\u2588\u2588\u2588\u2588\u2588\u2588\u2588\u2588\u2588\u2588\u2588\u2588\u2588\u2588\u2588\u2588\u2588\u2588\u2588\u2588\u2588\u2588\u258c       | 28.6MB 45.3MB/s eta 0:00:01\n\u001b[?25hInstalling collected packages: en-core-web-sm\n  Running setup.py install for en-core-web-sm ... \u001b[?25ldone\n\u001b[?25hSuccessfully installed en-core-web-sm-2.0.0\n\n\u001b[93m    Linking successful\u001b[0m\n    /opt/conda/envs/DSX-Python35/lib/python3.5/site-packages/en_core_web_sm\n    -->\n    /opt/conda/envs/DSX-Python35/lib/python3.5/site-packages/spacy/data/en\n\n    You can now load the model via spacy.load('en')\n\n"
                }
            ], 
            "source": "!conda install -c conda-forge spacy\n!python -m spacy download en\n\nimport requests\nimport pickle\nimport json\nimport pandas as pd\nfrom sklearn.cluster import MiniBatchKMeans\nfrom sklearn.feature_extraction.text import TfidfVectorizer\nfrom sklearn.feature_extraction.text import ENGLISH_STOP_WORDS\n\nimport spacy\nfrom html import unescape"
        }, 
        {
            "source": "## Description\n\nThe owner of a restaurant (or a similar venue, eg. caf\u00e9) asked me to help her understand what her customers think about the venue and maybe find a way to improve the business.\n\nI would like to approach this by analysing the tips the customers wrote about the venue and see if some common/repeating ideas can be extracted.\nBy doing this, I'm hoping to get some insight about how to improve the business in order to better serve the customers.\n\nNOTE:\n\nSince the tips are usually not in big numbers, it would probably be more efficient to just read them.\nI'm doing this analysis more as an exercise. One could imagine a similar analysis on social network posts where reading might not be an option because of the large volume.", 
            "cell_type": "markdown", 
            "metadata": {
                "collapsed": true
            }
        }, 
        {
            "source": "## Data extraction\n\nI am planning to use the Foursquare API to get the list of tips, extract the words from the tips, perform some pre-processing (eg: eliminating stop-words like \"and\", \"but\", etc.), convert the extracted words in features for the tip in question, put them in a dataframe and run a clustering algorithm on it.\n\nI would like to use a coffee shop from New York named Little Collins: https://foursquare.com/v/little-collins/51c9b6e1498e263056040a69\nThis seems to be popular and it has a lot of tips (400 at the moment).\n\n### Get tips for venue\n    - GET https://api.foursquare.com/v2/venues/VENUE_ID/tips\n    - endpoint: https://developer.foursquare.com/docs/api/venues/tips", 
            "cell_type": "markdown", 
            "metadata": {
                "collapsed": true
            }
        }, 
        {
            "source": "### Get data from Foursquare", 
            "cell_type": "markdown", 
            "metadata": {}
        }, 
        {
            "execution_count": 4, 
            "cell_type": "code", 
            "metadata": {}, 
            "outputs": [], 
            "source": "VENUE_ID = \"51c9b6e1498e263056040a69\"  # Link: https://foursquare.com/v/little-collins/51c9b6e1498e263056040a69\n\n\nPATTERN = \"https://api.foursquare.com/v2/{{}}?limit=500&oauth_token={}&v={}\".format(TOKEN, VERSION)\nTIPS_URL = PATTERN.format(\"venues/{}/tips\".format(VENUE_ID))\n\n\ndef get_venue_tips(url):\n    users = []\n    response = requests.get(url).json() # get response\n    return response['response']['tips']\n\n\ntips = get_venue_tips(TIPS_URL)"
        }, 
        {
            "source": "#### The data looks like this:", 
            "cell_type": "markdown", 
            "metadata": {}
        }, 
        {
            "execution_count": 23, 
            "cell_type": "code", 
            "metadata": {}, 
            "outputs": [
                {
                    "execution_count": 23, 
                    "metadata": {}, 
                    "data": {
                        "text/plain": "200"
                    }, 
                    "output_type": "execute_result"
                }
            ], 
            "source": "len(tips['items'])"
        }, 
        {
            "execution_count": 90, 
            "cell_type": "code", 
            "metadata": {}, 
            "outputs": [
                {
                    "output_type": "display_data", 
                    "data": {
                        "text/plain": "dict_keys(['count', 'items'])"
                    }, 
                    "metadata": {}
                }, 
                {
                    "output_type": "display_data", 
                    "data": {
                        "text/plain": "dict_keys(['text', 'likes', 'authorInteractionType', 'user', 'disagreeCount', 'logView', 'canonicalUrl', 'todo', 'like', 'createdAt', 'type', 'photourl', 'photo', 'agreeCount', 'id', 'lastUpvoteTimestamp', 'lastVoteText'])"
                    }, 
                    "metadata": {}
                }, 
                {
                    "output_type": "display_data", 
                    "data": {
                        "text/plain": "'571402e0498e27874973d636'"
                    }, 
                    "metadata": {}
                }, 
                {
                    "output_type": "display_data", 
                    "data": {
                        "text/plain": "\"A little taste of Melbourne in the heart of New York City. Great coffee (made the way it should be!) and classic Australian food to match. Can't go wrong with Vegemite on toast!\""
                    }, 
                    "metadata": {}
                }
            ], 
            "source": "# The response is a dictionary with the following keys\ndisplay(tips.keys())\n\n# We are interested in the 'items' which is a list of dictionaries with the following keys\ndisplay(tips['items'][0].keys())\n\n# I am only going to use the `id` and the `text` fields\ndisplay(tips['items'][0]['id'], tips['items'][0]['text'])"
        }, 
        {
            "source": "Save the data for later usage:", 
            "cell_type": "markdown", 
            "metadata": {}
        }, 
        {
            "execution_count": 25, 
            "cell_type": "code", 
            "metadata": {}, 
            "outputs": [
                {
                    "execution_count": 25, 
                    "metadata": {}, 
                    "data": {
                        "text/plain": "{'asset_id': '04f58cc3-e071-45aa-8cf3-72bf32e61d38',\n 'bucket_name': 'courseracapstone-donotdelete-pr-duvaojegpzermh',\n 'file_name': 'capstone.tips.p',\n 'message': 'File capstone.tips.p has been written successfully to the associated OS'}"
                    }, 
                    "output_type": "execute_result"
                }
            ], 
            "source": "project.save_data('capstone.tips.p', pickle.dumps(tips), overwrite=True)"
        }, 
        {
            "source": "## Methodology - Clustering text documents using k-means\n\nThe tips would have different lenghts and this could be a problem when comparing two tips.\nOnce I get the cluster, I would make lists of N most used words in each cluster and I hope to be able to interpret the results and extract some ideas.\n\nI have found an useful example of doing k-means text documents clustering: http://scikit-learn.org/stable/auto_examples/text/document_clustering.html", 
            "cell_type": "markdown", 
            "metadata": {}
        }, 
        {
            "source": "### Clustering\n\nIn the following section I am converting the tips contents to vectors that can be passed to the K-means algorithm.\nI am using the `spacy` natural language processing library to perform the `Lemmatization`\n\n```\nLemmatization:\tAssigning the base forms of words. For example, the lemma of \"was\" is \"be\", and the lemma of \"rats\" is \"rat\".\n```\n\nThis should allow the vectorizer to assign similar values to words from the same group but with slightly different form.\n\nI am passing the generated data to the MiniBatchKMeans algorithm which is a faster variant of the K-means (http://scikit-learn.org/stable/modules/clustering.html#mini-batch-kmeans)\n\n```\nThe MiniBatchKMeans is a variant of the KMeans algorithm which uses mini-batches to reduce the computation time, while still attempting to optimise the same objective function. Mini-batches are subsets of the input data, randomly sampled in each training iteration. \n```\n\n### Sentiment analysis\n\nFor the sentiment analysis part I am using the `textblob` library to extract the sentiment from each tip.\n\nThe sentiment, according to the documentation is: https://textblob.readthedocs.io/en/dev/api_reference.html#textblob.blob.TextBlob.sentiment\n\n```\nReturn a tuple of form (polarity, subjectivity ) where polarity is a float within the range [-1.0, 1.0] and subjectivity is a float within the range [0.0, 1.0] where 0.0 is very objective and 1.0 is very subjective.\n```\n\nAfter extracting the sentiments I'm going to compute the average polarity score for all the sentiment and for objective sentiments only.", 
            "cell_type": "markdown", 
            "metadata": {}
        }, 
        {
            "execution_count": 3, 
            "cell_type": "code", 
            "metadata": {}, 
            "outputs": [], 
            "source": "tips = pickle.load(project.get_file('capstone.tips.p'))"
        }, 
        {
            "source": "#### Extract the contents of the tips and save them in a dataframe", 
            "cell_type": "markdown", 
            "metadata": {}
        }, 
        {
            "execution_count": 4, 
            "cell_type": "code", 
            "metadata": {}, 
            "outputs": [
                {
                    "execution_count": 4, 
                    "metadata": {}, 
                    "data": {
                        "text/html": "<div>\n<style scoped>\n    .dataframe tbody tr th:only-of-type {\n        vertical-align: middle;\n    }\n\n    .dataframe tbody tr th {\n        vertical-align: top;\n    }\n\n    .dataframe thead th {\n        text-align: right;\n    }\n</style>\n<table border=\"1\" class=\"dataframe\">\n  <thead>\n    <tr style=\"text-align: right;\">\n      <th></th>\n      <th>Id</th>\n      <th>Text</th>\n    </tr>\n  </thead>\n  <tbody>\n    <tr>\n      <th>0</th>\n      <td>571402e0498e27874973d636</td>\n      <td>A little taste of Melbourne in the heart of Ne...</td>\n    </tr>\n    <tr>\n      <th>1</th>\n      <td>538747ad11d2268955cb3f23</td>\n      <td>The best coffee and bites in Midtown, dare I s...</td>\n    </tr>\n    <tr>\n      <th>2</th>\n      <td>56c003cc498e9f9d799fb644</td>\n      <td>They serve counter culture beans! Great pour-o...</td>\n    </tr>\n    <tr>\n      <th>3</th>\n      <td>53e2e877498eefdb1b26af19</td>\n      <td>1st of the now many Aussie coffee houses that ...</td>\n    </tr>\n    <tr>\n      <th>4</th>\n      <td>55d67810498e24523636a3a6</td>\n      <td>An Australian coffee oasis amidst the midtown ...</td>\n    </tr>\n  </tbody>\n</table>\n</div>", 
                        "text/plain": "                         Id                                               Text\n0  571402e0498e27874973d636  A little taste of Melbourne in the heart of Ne...\n1  538747ad11d2268955cb3f23  The best coffee and bites in Midtown, dare I s...\n2  56c003cc498e9f9d799fb644  They serve counter culture beans! Great pour-o...\n3  53e2e877498eefdb1b26af19  1st of the now many Aussie coffee houses that ...\n4  55d67810498e24523636a3a6  An Australian coffee oasis amidst the midtown ..."
                    }, 
                    "output_type": "execute_result"
                }
            ], 
            "source": "tips_content = []\n\nfor item in tips['items']:\n    tips_content.append((item['id'], item['text']))\n\ndata = pd.DataFrame(tips_content, columns=('Id', 'Text'))\ndata.head()"
        }, 
        {
            "source": "#### Load the spacy model and add helper function for the vectorization", 
            "cell_type": "markdown", 
            "metadata": {}
        }, 
        {
            "execution_count": 5, 
            "cell_type": "code", 
            "metadata": {}, 
            "outputs": [], 
            "source": "# create a spaCy tokenizer\nnlp = spacy.load('en')\nlemmatizer = spacy.lang.en.English()\n\n\n# remove html entities from docs and\n# set everything to lowercase\ndef my_preprocessor(doc):\n    return (unescape(doc).lower())\n\n\n# tokenize the doc and lemmatize its tokens\ndef my_tokenizer(doc):\n    tokens = lemmatizer(doc)\n    return([token.lemma_ for token in tokens])"
        }, 
        {
            "source": "#### Create vectorizer and fit it to the data", 
            "cell_type": "markdown", 
            "metadata": {}
        }, 
        {
            "execution_count": 10, 
            "cell_type": "code", 
            "metadata": {}, 
            "outputs": [], 
            "source": "vectorizer = TfidfVectorizer(\n    max_df=0.5, max_features=100000,\n    min_df=2, stop_words=ENGLISH_STOP_WORDS,\n    preprocessor=my_preprocessor,\n    tokenizer=my_tokenizer,\n    use_idf=True)"
        }, 
        {
            "execution_count": 13, 
            "cell_type": "code", 
            "metadata": {}, 
            "outputs": [], 
            "source": "X = vectorizer.fit_transform(data['Text'])"
        }, 
        {
            "source": "#### Apply MiniBatch K-means to the data obtained after vectorization", 
            "cell_type": "markdown", 
            "metadata": {}
        }, 
        {
            "execution_count": 43, 
            "cell_type": "code", 
            "metadata": {}, 
            "outputs": [], 
            "source": "km = MiniBatchKMeans(\n    n_clusters=20, init='k-means++', n_init=1,\n    init_size=1000, batch_size=10, verbose=True)"
        }, 
        {
            "execution_count": 44, 
            "cell_type": "code", 
            "metadata": {}, 
            "outputs": [
                {
                    "output_type": "stream", 
                    "name": "stdout", 
                    "text": "Init 1/1 with method: k-means++\nInertia for init 1/1: 136.237490\nMinibatch iteration 1/2000: mean batch inertia: 0.818748, ewa inertia: 0.818748 \nMinibatch iteration 2/2000: mean batch inertia: 0.861918, ewa inertia: 0.823043 \nMinibatch iteration 3/2000: mean batch inertia: 0.786946, ewa inertia: 0.819451 \nMinibatch iteration 4/2000: mean batch inertia: 0.671047, ewa inertia: 0.804685 \nMinibatch iteration 5/2000: mean batch inertia: 0.868364, ewa inertia: 0.811021 \nMinibatch iteration 6/2000: mean batch inertia: 0.671635, ewa inertia: 0.797152 \nMinibatch iteration 7/2000: mean batch inertia: 0.780987, ewa inertia: 0.795543 \nMinibatch iteration 8/2000: mean batch inertia: 0.849813, ewa inertia: 0.800943 \nMinibatch iteration 9/2000: mean batch inertia: 0.820330, ewa inertia: 0.802872 \nMinibatch iteration 10/2000: mean batch inertia: 0.791899, ewa inertia: 0.801780 \nMinibatch iteration 11/2000: mean batch inertia: 0.866772, ewa inertia: 0.808247 \nMinibatch iteration 12/2000: mean batch inertia: 0.832976, ewa inertia: 0.810708 \nMinibatch iteration 13/2000: mean batch inertia: 0.827736, ewa inertia: 0.812402 \nMinibatch iteration 14/2000: mean batch inertia: 0.745604, ewa inertia: 0.805756 \nMinibatch iteration 15/2000: mean batch inertia: 0.713915, ewa inertia: 0.796617 \nMinibatch iteration 16/2000: mean batch inertia: 0.752958, ewa inertia: 0.792273 \nMinibatch iteration 17/2000: mean batch inertia: 0.793619, ewa inertia: 0.792407 \nMinibatch iteration 18/2000: mean batch inertia: 0.835054, ewa inertia: 0.796650 \nMinibatch iteration 19/2000: mean batch inertia: 0.764721, ewa inertia: 0.793473 \nMinibatch iteration 20/2000: mean batch inertia: 0.833185, ewa inertia: 0.797425 \nMinibatch iteration 21/2000: mean batch inertia: 0.691365, ewa inertia: 0.786872 \nMinibatch iteration 22/2000: mean batch inertia: 0.849131, ewa inertia: 0.793067 \nMinibatch iteration 23/2000: mean batch inertia: 0.774576, ewa inertia: 0.791227 \nMinibatch iteration 24/2000: mean batch inertia: 0.705555, ewa inertia: 0.782702 \nMinibatch iteration 25/2000: mean batch inertia: 0.799004, ewa inertia: 0.784324 \nMinibatch iteration 26/2000: mean batch inertia: 0.843252, ewa inertia: 0.790188 \nMinibatch iteration 27/2000: mean batch inertia: 0.784505, ewa inertia: 0.789622 \nMinibatch iteration 28/2000: mean batch inertia: 0.722943, ewa inertia: 0.782987 \nMinibatch iteration 29/2000: mean batch inertia: 0.819134, ewa inertia: 0.786584 \nMinibatch iteration 30/2000: mean batch inertia: 0.744054, ewa inertia: 0.782352 \nMinibatch iteration 31/2000: mean batch inertia: 0.818074, ewa inertia: 0.785907 \nMinibatch iteration 32/2000: mean batch inertia: 0.729299, ewa inertia: 0.780274 \nMinibatch iteration 33/2000: mean batch inertia: 0.776792, ewa inertia: 0.779928 \nMinibatch iteration 34/2000: mean batch inertia: 0.729528, ewa inertia: 0.774913 \nMinibatch iteration 35/2000: mean batch inertia: 0.836480, ewa inertia: 0.781039 \nMinibatch iteration 36/2000: mean batch inertia: 0.718377, ewa inertia: 0.774804 \nMinibatch iteration 37/2000: mean batch inertia: 0.838426, ewa inertia: 0.781134 \nMinibatch iteration 38/2000: mean batch inertia: 0.760391, ewa inertia: 0.779070 \nMinibatch iteration 39/2000: mean batch inertia: 0.713503, ewa inertia: 0.772546 \nMinibatch iteration 40/2000: mean batch inertia: 0.694683, ewa inertia: 0.764799 \nMinibatch iteration 41/2000: mean batch inertia: 0.789516, ewa inertia: 0.767258 \nMinibatch iteration 42/2000: mean batch inertia: 0.779154, ewa inertia: 0.768442 \nMinibatch iteration 43/2000: mean batch inertia: 0.779091, ewa inertia: 0.769501 \nMinibatch iteration 44/2000: mean batch inertia: 0.795978, ewa inertia: 0.772136 \nMinibatch iteration 45/2000: mean batch inertia: 0.733392, ewa inertia: 0.768281 \nMinibatch iteration 46/2000: mean batch inertia: 0.652938, ewa inertia: 0.756804 \nMinibatch iteration 47/2000: mean batch inertia: 0.835293, ewa inertia: 0.764614 \nMinibatch iteration 48/2000: mean batch inertia: 0.686112, ewa inertia: 0.756803 \nMinibatch iteration 49/2000: mean batch inertia: 0.661156, ewa inertia: 0.747286 \nMinibatch iteration 50/2000: mean batch inertia: 0.757832, ewa inertia: 0.748335 \nMinibatch iteration 51/2000: mean batch inertia: 0.728399, ewa inertia: 0.746351 \nMinibatch iteration 52/2000: mean batch inertia: 0.743617, ewa inertia: 0.746079 \nMinibatch iteration 53/2000: mean batch inertia: 0.776478, ewa inertia: 0.749104 \nMinibatch iteration 54/2000: mean batch inertia: 0.790689, ewa inertia: 0.753242 \nMinibatch iteration 55/2000: mean batch inertia: 0.748239, ewa inertia: 0.752744 \nMinibatch iteration 56/2000: mean batch inertia: 0.860508, ewa inertia: 0.763467 \nMinibatch iteration 57/2000: mean batch inertia: 0.752155, ewa inertia: 0.762341 \nMinibatch iteration 58/2000: mean batch inertia: 0.773975, ewa inertia: 0.763499 \nMinibatch iteration 59/2000: mean batch inertia: 0.800512, ewa inertia: 0.767182 \nMinibatch iteration 60/2000: mean batch inertia: 0.797441, ewa inertia: 0.770193 \nMinibatch iteration 61/2000: mean batch inertia: 0.793862, ewa inertia: 0.772548 \nMinibatch iteration 62/2000: mean batch inertia: 0.678391, ewa inertia: 0.763179 \nConverged (lack of improvement in inertia) at iteration 62/2000\nComputing label assignment and total inertia\n"
                }, 
                {
                    "execution_count": 44, 
                    "metadata": {}, 
                    "data": {
                        "text/plain": "MiniBatchKMeans(batch_size=10, compute_labels=True, init='k-means++',\n        init_size=1000, max_iter=100, max_no_improvement=10, n_clusters=20,\n        n_init=1, random_state=None, reassignment_ratio=0.01, tol=0.0,\n        verbose=True)"
                    }, 
                    "output_type": "execute_result"
                }
            ], 
            "source": "km.fit(X)"
        }, 
        {
            "source": "#### Merging the labels with the data and saving", 
            "cell_type": "markdown", 
            "metadata": {}
        }, 
        {
            "execution_count": 46, 
            "cell_type": "code", 
            "metadata": {}, 
            "outputs": [
                {
                    "execution_count": 46, 
                    "metadata": {}, 
                    "data": {
                        "text/plain": "{'asset_id': '51a875b8-3a69-44e6-87a8-63b9868a7d82',\n 'bucket_name': 'courseracapstone-donotdelete-pr-duvaojegpzermh',\n 'file_name': 'capstone.labeled_data.p',\n 'message': 'File capstone.labeled_data.p has been written successfully to the associated OS'}"
                    }, 
                    "output_type": "execute_result"
                }
            ], 
            "source": "labeled_data = data.copy()\nlabeled_data['Label'] = km.labels_\n\nproject.save_data('capstone.labeled_data.p', labeled_data.to_json(), overwrite=True)"
        }, 
        {
            "execution_count": 21, 
            "cell_type": "code", 
            "metadata": {}, 
            "outputs": [], 
            "source": "labeled_data = pd.read_json(project.get_file('capstone.labeled_data.p'))"
        }, 
        {
            "source": "## Results", 
            "cell_type": "markdown", 
            "metadata": {}
        }, 
        {
            "source": "#### Generating the top of the clusters by counting the members", 
            "cell_type": "markdown", 
            "metadata": {}
        }, 
        {
            "execution_count": 51, 
            "cell_type": "code", 
            "metadata": {}, 
            "outputs": [
                {
                    "output_type": "display_data", 
                    "data": {
                        "text/plain": "Label\n12    29\n13    18\n18    18\n4     18\n0     17\n11    10\n10    10\n2     10\n7      9\n17     8\n1      8\n5      7\n16     7\n15     6\n9      5\n6      5\n8      5\n14     5\n3      4\n19     1\nName: Id, dtype: int64"
                    }, 
                    "metadata": {}
                }
            ], 
            "source": "top = labeled_data[['Id', 'Label']].groupby(by='Label').count()['Id'].sort_values(ascending=False)\ndisplay(top)"
        }, 
        {
            "execution_count": 78, 
            "cell_type": "code", 
            "metadata": {}, 
            "outputs": [], 
            "source": "# Helper function to extract the words top from the cluster and print the tips in the cluster\n\ndef words_top_per_label(label):\n\n    words = []\n\n    for item in labeled_data[labeled_data['Label'] == label]['Text']:\n        for c in '(){}[]:;,.!?-_0123456789\"\\'/\\\\=+&':\n            item = item.replace(c, '').lower()\n        words += item.split(' ')\n\n    s = pd.Series(words)\n\n    display(s[~s.index.isin(vectorizer.stop_words_)].value_counts().where(lambda x : x > 1).dropna())\n    display(labeled_data[labeled_data['Label'] == label]['Text'].to_dict())"
        }, 
        {
            "source": "### Analyzing the clusters", 
            "cell_type": "markdown", 
            "metadata": {}
        }, 
        {
            "execution_count": 60, 
            "cell_type": "code", 
            "metadata": {}, 
            "outputs": [
                {
                    "output_type": "display_data", 
                    "data": {
                        "text/plain": "the          28.0\nand          15.0\na            14.0\ncoffee       12.0\nis           10.0\nfor           9.0\ngood          9.0\ngreat         9.0\nsandwich      7.0\ni             7.0\nto            7.0\n              7.0\nyou           6.0\nlove          6.0\nin            6.0\nwell          5.0\nwas           5.0\nwith          4.0\nif            4.0\nbrew          4.0\nof            4.0\nservice       4.0\nme            4.0\nit            4.0\nare           4.0\ncookie        3.0\nso            3.0\npretty        3.0\nbut           3.0\ncold          3.0\n             ... \nhealthy       2.0\nget           2.0\nhad           2.0\nask           2.0\nbe            2.0\npick          2.0\nan            2.0\nwhen          2.0\nmidtown       2.0\nmelbourne     2.0\navocado       2.0\nfind          2.0\nbrunch        2.0\nlattes        2.0\nmade          2.0\nsmall         2.0\nthat          2.0\neven          2.0\ndrinks        2.0\nup            2.0\ncounter       2.0\nthis          2.0\non            2.0\nhave          2.0\nfood          2.0\nsalmon        2.0\ndont          2.0\ntheir         2.0\npbj           2.0\nexpresso      2.0\nLength: 76, dtype: float64"
                    }, 
                    "metadata": {}
                }, 
                {
                    "output_type": "display_data", 
                    "data": {
                        "text/plain": "{23: 'Avocado toast ftw!!  Properly brewed coffee is refreshing.  They brew counter culture coffee, an excellent roaster that is hard to find in ny.  Try the Idido if the have it - herbal and floral!',\n 34: 'If you are in the neighborhood, LITTLE COLLINS is a must do for a healthy and tasty breakfast.Excellent coffee and pastries!',\n 42: 'Avo smash is popular but the best thing on the me I is the cured salmon sandwich. Great cold brew and the cookie that comes with the hot drinks is delicious!',\n 44: \"Best mocha I've had in be city! And their complimentary hazelnut cookie served when you dine-in is worth sitting yourself down to truly enjoy your beverage!\",\n 69: 'Well made macchiato and lattes! Cute little green cups accompanied by a small biscuit on the saucer.',\n 70: 'A lovely taste of Melbourne in a mundane part of midtown... great food, coffee and atmosphere... And they have Anzac bikkies!! Love!',\n 73: 'No words for the PBJ sandwich!!!!! So good.',\n 77: 'Great vibe and an awesome latte. Very melbourne!',\n 79: 'Best looking PBJ sandwich ever! And these Aussies sure know how to make great espressos.',\n 89: 'Terrific coffee shop with well made expresso drinks.  The sandwiches are good as well. Especially in Midtown.',\n 95: 'Wonderful amazing soy latte!! I love the little cookie as well.',\n 100: \"The pick me up is delicious and quick. A bit spicy so be careful if you don't handle spice well.\",\n 106: 'The lattes here are pretty good. You can really taste the espresso!',\n 109: 'Excellent brunch dishes and good coffee!!! Quite small though so difficult to find a place!',\n 114: 'Excellent pour over coffee, even better customer service!',\n 115: 'Finally good cold brew in the neighborhood! Friendly service too - ask for a stamp card!',\n 116: \"Great healthy Brunch! However not a fan of the terrible service. Didn't get a water glass till I asked and it took forever for the check to come and then the waiter inaccurately increased my tip\",\n 122: \"The food is good, even if you don't drink coffee. Worth a visit for the charcoal chicken sandwich.\",\n 128: 'The latte was slightly too creamy for me but nonetheless still good!',\n 154: 'Just had a salmon sandwich... Absolutely delish!! Mascarpone instead of cream cheese, I was totally sold. Good Friday lunch...',\n 164: 'Coffee... also a place where finally I get sparkling water with expresso',\n 166: 'I love their mocha!',\n 167: 'GREAT CAPPUCCINOS! So/So service... but it was pretty busy when I was there...',\n 172: 'The coffee is top notch...the sandwiches are pretty darn good too!',\n 174: \"Love this place! Great for coffee and lunchtime sandwiches! Yeah, I'm a regular. ;)\",\n 176: 'Fantastic cold brew! Great addition to the neighborhood.',\n 182: 'For some reason they keep the sugar behind the counter. You need to ask for it.',\n 188: 'The \"pick me up\" sandwich with drip coffee! Love love this.',\n 193: 'The avocado sandwich was great!'}"
                    }, 
                    "metadata": {}
                }
            ], 
            "source": "words_top_per_label(top.index[0])"
        }, 
        {
            "source": "#### It seems that the sandwich preferences are spread across multiple choices.", 
            "cell_type": "markdown", 
            "metadata": {}
        }, 
        {
            "execution_count": 63, 
            "cell_type": "code", 
            "metadata": {}, 
            "outputs": [
                {
                    "output_type": "display_data", 
                    "data": {
                        "text/plain": "flat         16.0\nwhite        15.0\nthe          14.0\na             9.0\n              8.0\nin            7.0\ncoffee        7.0\nand           6.0\nbest          6.0\nget           6.0\nis            5.0\nbut           4.0\nfor           4.0\nwith          4.0\nexcellent     3.0\nyou           3.0\nbreakfast     3.0\nmelbourne     3.0\nsmall         3.0\ni             2.0\nwhites        2.0\nto            2.0\nsmash         2.0\namazing       2.0\nnot           2.0\nstrong        2.0\nculture       2.0\ndelicious     2.0\nchicken       2.0\nperfect       2.0\ncity          2.0\nmiss          2.0\ntoo           2.0\nof            2.0\ndtype: float64"
                    }, 
                    "metadata": {}
                }, 
                {
                    "output_type": "display_data", 
                    "data": {
                        "text/plain": "{7: 'Best flat white you\u2019ll get in NYC. Makes me miss my life in Sydney where I was surrounded by amazing coffee.',\n 36: 'top 3 flat white in the city \ud83d\udc4d\ud83c\udffc\ud83d\udc4d\ud83c\udffc too small for working - even eating is a bit uncomfortable due to small tables. but get FW to go and savor it while walking around the city!',\n 67: 'The chicken + squash + arugula salad is a lunch I get at least once a week. Absolutely lovely with a hefty amount of dark and white chicken meat \ud83d\udc4c\ud83c\udffc',\n 86: 'The flat white is obviously amazing, but come for breakfast and impress whoever you bring with. Outstanding everything.',\n 97: 'The best flat white. The best coffee shop near Bloomingdales!',\n 129: 'The flat white is the best! Just like Melbourne!',\n 132: 'Excellent flat white (the real thing, not half a latte as in other places)',\n 134: 'Flat white and the aesthetic are both perfect.',\n 145: 'If you miss having coffee in Australia, you will be SO happy here. Best flat whites.',\n 152: 'Excellent coffee. The flat white is delicious! Strong but not bitter. http://en.m.wikipedia.org/wiki/Flat_white',\n 155: 'Exceptional flat white with Counter Culture coffee. Efficient service too.',\n 157: 'A New York embodiment of  Melbourne caf\u00e9 culture. Delicious flat whites!',\n 178: '100% legit Melbourne style coffee. Get the Flat White. Get two.',\n 180: 'Best soy flat white in area $4.55 for 6 oz',\n 189: 'Such a great respite from midtown.  Magic flat white + smash. \ud83d\udc4c',\n 191: 'For your flat white and vegemite toast fix in Manhattan!',\n 194: 'Excellent coffee and a small but strong breakfast menu.',\n 197: 'Get The Smash with a flat white. The perfect breakfast.'}"
                    }, 
                    "metadata": {}
                }
            ], 
            "source": "words_top_per_label(top.index[3])"
        }, 
        {
            "source": "#### The flat white coffee is mentioned a lot. It seems to be a coffee speciality from Australia.", 
            "cell_type": "markdown", 
            "metadata": {}
        }, 
        {
            "execution_count": 64, 
            "cell_type": "code", 
            "metadata": {}, 
            "outputs": [
                {
                    "output_type": "display_data", 
                    "data": {
                        "text/plain": "and          14.0\ncoffee       10.0\nreally       10.0\nthe          10.0\nis            9.0\ngood          7.0\n              6.0\nbut           6.0\ngreat         6.0\nsuper         5.0\ncrowded       5.0\na             4.0\nwhite         4.0\nflat          4.0\nfriendly      4.0\nwith          4.0\nall           3.0\nsmash         3.0\nplace         3.0\ntiny          3.0\namazing       3.0\nit            3.0\nget           3.0\ntoast         3.0\nan            2.0\nso            2.0\nvery          2.0\nsandwich      2.0\nawesome       2.0\ncake          2.0\nfood          2.0\ngo            2.0\nservice       2.0\naway          2.0\nsmall         2.0\nseat          2.0\ngets          2.0\nshop          2.0\navocado       2.0\ndelicious     2.0\nfast          2.0\nits           2.0\nas            2.0\nwell          2.0\nfor           2.0\nbreakfast     2.0\ntoo           2.0\nbread         2.0\nin            2.0\ndtype: float64"
                    }, 
                    "metadata": {}
                }, 
                {
                    "output_type": "display_data", 
                    "data": {
                        "text/plain": "{9: 'Unique selections, great coffee and good ambience in general\u2764\ufe0f such a tiny place but worth it. Their macchiato with the PBJ toast is the best combination \u2764\ufe0f',\n 10: 'A great little coffee bar with very good breakfast and lunch options. The flat white is really good and can confirm all other reviews - The avocado-feta sandwich is awesome.',\n 37: \"Get the olive oil cake! It's perfect - crunchy top and delicious, moist, flavourful cake. Or the banana bread, you really can't go wrong. Super friendly service as well.\",\n 47: 'The Smash was an amazing breakfast. Really good coffee as well, and they serve Australian flat white and piccolo.',\n 64: 'Epic Smash toast. Must get. Love this place! Tiny, 5 tables but really fresh and flavorful!',\n 66: 'Flat white is my favorite. All the food is delicious. Place gets super crowded and aggressive which is annoying. Try & go off peak times.',\n 75: \"Awesome avocado smash and coffee, but small and very crowded. Great for take away, but don't count on grabbing a seat!\",\n 80: 'Great pour over coffee and owner is really friendly! Hidden away inside an office building, so lucky for those employees.',\n 94: 'Chicken Schnitzel w/mashed peas, caramelized onions, bacon, & chipotle mayo is great! Really good sandwich bread.',\n 113: 'Amazing coffee and food! Super friendly and efficient. High quality all the way around.',\n 119: 'Oh, that avocado toast stands to its fame! :) Really tasty, get it topped with egg.',\n 133: 'Amazing yogurt panna cotta! Really big portions too',\n 159: 'Tiny shop, so it gets crowded fast, but the coffee is really, really good',\n 170: 'Fast, friendly service, not your typical coffee snobs. Neat interior too!',\n 184: 'Fantastic coffee, but good luck finding a seat.',\n 186: 'Super crowded with tons of tourists. Downtown-vibe coffee shop in Midtown.',\n 199: 'Great flat white, super small and crowded.'}"
                    }, 
                    "metadata": {}
                }
            ], 
            "source": "words_top_per_label(top.index[4])"
        }, 
        {
            "source": "#### We can see that some consider it to be very crowded in the peak times but they consider the service to be friendly.", 
            "cell_type": "markdown", 
            "metadata": {}
        }, 
        {
            "execution_count": 65, 
            "cell_type": "code", 
            "metadata": {}, 
            "outputs": [
                {
                    "output_type": "display_data", 
                    "data": {
                        "text/plain": "sweet           11.0\na               10.0\nand             10.0\nuncle            9.0\nfred             8.0\nthe              8.0\nricotta          5.0\nbread            5.0\nbanana           5.0\nget              5.0\ncoffee           4.0\nwhite            4.0\nhoney            4.0\nflat             4.0\nwith             4.0\nmenu             3.0\ngreat            3.0\ntoasted          3.0\n                 2.0\non               2.0\nto               2.0\nlatte            2.0\nberries          2.0\nwas              2.0\nstrawberries     2.0\ntoo              2.0\nis               2.0\nbut              2.0\nfor              2.0\nrecommend        2.0\ntry              2.0\ndtype: float64"
                    }, 
                    "metadata": {}
                }, 
                {
                    "output_type": "display_data", 
                    "data": {
                        "text/plain": "{14: 'The Sweet Uncle Fred, get it. The combination of banana bread, ricotta, honey, and berries is heavenly. They make a great flat white too, much better than your average coffee.',\n 25: 'Small space and no lunch menu available on weekends. Get the sweet uncle fred: toasted banana bread with ricotta, strawberries, honey, and toasted almonds.',\n 31: 'Just opened today! Delicious menu and friendly staff. Try the Sweet Uncle Fred--toasted banana bread with ricotta, strawberries, honey, and toasted almonds--and a piccolo latte. Happiness.',\n 38: 'This place is tiny, but serve a mean flat white and have a great Aussie cafe menu. The Sweet Uncle Fred (banana bread with ricotta and berries) was excellent.',\n 65: \"Great food. I recommend the 'Sweet Uncle Fred' for afternoon coffee break. Chai latte was good too although a little on the sweet side.\",\n 92: 'Avocado Toast & Sweet Uncle Fred are my favorites! Would recommend getting here early to get a seat.',\n 105: \"Get a flat white and a Sweet Uncle Fred and you won't be disappointed.\",\n 121: \"Perfect coffee, don't miss Sweet Uncle Fred! Banana bread ricotta fruits and honey \ud83d\udc4c\ud83c\udffd\",\n 124: \"Try their 'flat white'. It's an Australian specialty coffee drink similar to a cappuccino, but with less foam.\",\n 161: 'Get the Sweet Uncle Fred for a sweet & quick fix!'}"
                    }, 
                    "metadata": {}
                }
            ], 
            "source": "words_top_per_label(top.index[5])"
        }, 
        {
            "source": "#### Another popular option seems to be `The Sweet Uncle Fred` which seems to be a `combination of banana bread, ricotta, honey, and berries`", 
            "cell_type": "markdown", 
            "metadata": {}
        }, 
        {
            "execution_count": 66, 
            "cell_type": "code", 
            "metadata": {}, 
            "outputs": [
                {
                    "output_type": "display_data", 
                    "data": {
                        "text/plain": "and           12.0\ntoast         11.0\navocado       10.0\nthe            8.0\ncoffee         5.0\nis             4.0\nare            4.0\ngreat          4.0\na              4.0\ngood           3.0\nfood           3.0\nfor            3.0\naustralian     3.0\ntoo            3.0\nit             2.0\ncafe           2.0\nthis           2.0\nin             2.0\nmidtown        2.0\nmy             2.0\nwell           2.0\nwhite          2.0\nnice           2.0\ngot            2.0\nflat           2.0\nas             2.0\nseeds          2.0\nwith           2.0\npumpkin        2.0\noptions        2.0\nback           2.0\ndtype: float64"
                    }, 
                    "metadata": {}
                }, 
                {
                    "output_type": "display_data", 
                    "data": {
                        "text/plain": "{4: 'An Australian coffee oasis amidst the midtown culinary desert. Get a flat white and avocado toast with pumpkin seeds and pepper.',\n 12: 'This is the best Australian specialty coffee in NYC hands down! Try their PB&J toast and avocado toast too! Staff are very friendly and skilled despite crazy crowds around 2pm.',\n 15: 'The food is great here! I got avocado toast and my sister got Spanish omelette and both are delicious. Coffee is good too. Will come back and absolutely recommend.',\n 49: \"Far too many good options for just one visit, I'll definitely be coming back. The flat white, Vegemite toast, avocado toast, and avocado omelet were all amazing\",\n 103: 'My first stop from the LGA airport for avocado toast and a latte. \u2615\ufe0f Well worth it. Great food, pastries, and service.',\n 110: \"These folks know coffee. They are also nice about it if you aren't as knowledgeable. Good pour over options.\",\n 117: 'Avocado \\U0001f951 toast with poached egg and pepperoncino.... mouthwatering. Great cafe mocha as well',\n 126: 'Cute Australian cafe- great iced lattes, avocado toast, and mushroom sandwich',\n 148: 'Pricey but a nice alternative in midtown east for coffee. The food is decent especially the avocado toast.',\n 168: 'The pumpkin seeds are a fun addition to avocado toast! This tiny place was so packed though.'}"
                    }, 
                    "metadata": {}
                }
            ], 
            "source": "words_top_per_label(top.index[6])"
        }, 
        {
            "execution_count": 67, 
            "cell_type": "code", 
            "metadata": {}, 
            "outputs": [
                {
                    "output_type": "display_data", 
                    "data": {
                        "text/plain": "the          16.0\ncoffee       11.0\na             8.0\nis            8.0\nwith          5.0\naussie        4.0\navo           4.0\nof            3.0\ntoast         3.0\nin            3.0\nmilk          3.0\nfor           3.0\nflat          3.0\nto            3.0\nup            2.0\nthat          2.0\nby            2.0\nwhite         2.0\niced          2.0\nlittle        2.0\njust          2.0\nst            2.0\ngreat         2.0\nbut           2.0\ntoo           2.0\nget           2.0\nand           2.0\nyour          2.0\nbreakfast     2.0\ndtype: float64"
                    }, 
                    "metadata": {}
                }, 
                {
                    "output_type": "display_data", 
                    "data": {
                        "text/plain": "{3: '1st of the now many Aussie coffee houses that pairs amazing espresso drinks with great food that goes beyond just your typical pastries. The \"Little Collins st\" sign was given by the Melbourne mayor!',\n 11: \"The most delicious coffee I've ever had. Don't be fooled by the smaller sizes- the coffee is strong! The avo toast is also worth a mention- especially with an egg on top.\",\n 20: 'A must for breakfast takeout. Grabbing a table is impossible. The \"Pick Me Up\" is my goto breakfast sandwich. But add the \"Sweet Uncle Fred\" to whatever you order...it will make your day.',\n 21: 'This Aussie spot is known mostly for its flat whites and avo toast, but give the iced latte a chance, too. It\u2019s smooth with just the right amount of milk.',\n 51: 'A great little Australian inspired cafe in the heart of manhattan. Awesome avo-toast. Check the sun dried coffee.',\n 60: 'Quality coffee in a friendly, hip atmosphere. Welcome alternative to the corporate, midtown world. Get the iced coffee w almond milk',\n 125: 'avo toast is soooo good. get a flat white too!',\n 137: 'Aussie coffeshop for a quick coffee + brekkie.\ud83d\udc28',\n 160: 'Puts American coffee shops to shame. Aussie coffee talk- \"flat white\" is coffee with milk, \"long black\" is straight up.',\n 163: 'The coffee and anything with Avo in it'}"
                    }, 
                    "metadata": {}
                }
            ], 
            "source": "words_top_per_label(top.index[7])"
        }, 
        {
            "source": "#### From the above two clusters we can deduce that another popular choice is the avocado toast", 
            "cell_type": "markdown", 
            "metadata": {}
        }, 
        {
            "execution_count": 68, 
            "cell_type": "code", 
            "metadata": {}, 
            "outputs": [
                {
                    "output_type": "display_data", 
                    "data": {
                        "text/plain": "the          8.0\na            7.0\nwith         7.0\npiccolo      6.0\nlatte        5.0\nand          5.0\nolive        4.0\nit           4.0\noil          4.0\ncoffee       4.0\nfor          3.0\ncake         3.0\ndelicious    3.0\nmidtown      3.0\nto           3.0\ncortado      3.0\nsmall        2.0\nbread        2.0\ngem          2.0\nis           2.0\nin           2.0\nsmash        2.0\nthey         2.0\nof           2.0\ndtype: float64"
                    }, 
                    "metadata": {}
                }, 
                {
                    "output_type": "display_data", 
                    "data": {
                        "text/plain": "{16: 'What to Order: A piccolo latte, a traditional Australian drink with a double shot of espresso and a small amount of steamed milk. It\u2019s similar to a cortado.',\n 58: 'Midtown gem. Ask for a cortado and pair it with the banana bread. They can toast it for you.',\n 68: 'Uses rotating counter culture coffee. Piccolo with olive oil cake makes for the perfect breakfast. Avocado feta smash is great too.',\n 71: 'I agree with all the Smash comments. Simple, delicious, healthy start to day. Accompany that with an expertly prepared piccolo latte',\n 96: 'Lovely small coffee shop with delicious coffee. Try the olive oil bread- it will change your world.',\n 98: 'The Spanish tortilla is delicious. Follow it with. Piccolo Latte',\n 102: 'Sharp joint in Midtown East. Get a piccolo latte (cortado), and eat the cookie they put on the plate.',\n 131: \"Excellent piccolo latte and olive oil cake. Didn't know this gem existed in midtown\",\n 196: 'Coffee and the olive oil spice cake'}"
                    }, 
                    "metadata": {}
                }
            ], 
            "source": "words_top_per_label(top.index[8])"
        }, 
        {
            "source": "#### It looks like for this cluster, the `piccolo latte` is often paired with the `olive oil cake`.", 
            "cell_type": "markdown", 
            "metadata": {}
        }, 
        {
            "source": "#### It looks like from the other clusters no useful information can be extracted.", 
            "cell_type": "markdown", 
            "metadata": {}
        }, 
        {
            "source": "### Sentiment analysis [extra]", 
            "cell_type": "markdown", 
            "metadata": {}
        }, 
        {
            "source": "I am going to use textblob to perform a sentiment analysis.\nI am going to extract the sentiments from all the tips.\nThe sentiment, according to documentation https://textblob.readthedocs.io/en/dev/api_reference.html#textblob.blob.TextBlob.sentiment\n\n```\nReturn a tuple of form (polarity, subjectivity ) where polarity is a float within the range [-1.0, 1.0] and subjectivity is a float within the range [0.0, 1.0] where 0.0 is very objective and 1.0 is very subjective.\n```\n\nAfter extracting the sentiments I'm going to compute the average polarity score for all the sentiment and for objective sentiments only.", 
            "cell_type": "markdown", 
            "metadata": {}
        }, 
        {
            "execution_count": 14, 
            "cell_type": "code", 
            "metadata": {}, 
            "outputs": [
                {
                    "output_type": "stream", 
                    "name": "stdout", 
                    "text": "Collecting textblob\n  Downloading https://files.pythonhosted.org/packages/11/18/7f55c8be6d68ddc4036ffda5382ca51e23a1075987f708b9123712091af1/textblob-0.15.1-py2.py3-none-any.whl (631kB)\n\u001b[K    100% |\u2588\u2588\u2588\u2588\u2588\u2588\u2588\u2588\u2588\u2588\u2588\u2588\u2588\u2588\u2588\u2588\u2588\u2588\u2588\u2588\u2588\u2588\u2588\u2588\u2588\u2588\u2588\u2588\u2588\u2588\u2588\u2588| 634kB 1.4MB/s ta 0:00:01\n\u001b[?25hRequirement not upgraded as not directly required: nltk>=3.1 in /opt/conda/envs/DSX-Python35/lib/python3.5/site-packages (from textblob)\nRequirement not upgraded as not directly required: six in /opt/conda/envs/DSX-Python35/lib/python3.5/site-packages (from nltk>=3.1->textblob)\nInstalling collected packages: textblob\nSuccessfully installed textblob-0.15.1\n"
                }
            ], 
            "source": "!pip install textblob"
        }, 
        {
            "execution_count": 45, 
            "cell_type": "code", 
            "metadata": {}, 
            "outputs": [
                {
                    "output_type": "stream", 
                    "name": "stdout", 
                    "text": "Polarity score:  0.35531281103982\nObjective polarity score:  0.21514148285576853\nObjective sentiments used:  70\n"
                }
            ], 
            "source": "from textblob import TextBlob\n\nsentiments = []\n\nfor item in tips_content:\n    sentiment = TextBlob(item[1]).sentiment\n    sentiments.append((sentiment.polarity, sentiment.subjectivity))\n\nsentiments_df = pd.concat([labeled_data.copy(), pd.DataFrame(sentiments, columns=['Polarity', 'Subjectivity'])], axis=1)\n\nfiltered_sentiments = sentiments_df[sentiments_df['Subjectivity'] <= 0.5]['Polarity']\nprint(\"Polarity score: \", sentiments_df['Polarity'].mean())\nprint(\"Objective polarity score: \", filtered_sentiments.mean())\nprint(\"Objective sentiments used: \", filtered_sentiments.count())"
        }, 
        {
            "source": "Let's look at some of the negative sentiments.", 
            "cell_type": "markdown", 
            "metadata": {}
        }, 
        {
            "execution_count": 85, 
            "cell_type": "code", 
            "metadata": {}, 
            "outputs": [
                {
                    "output_type": "stream", 
                    "name": "stdout", 
                    "text": "[ -0.6 ]  Breakfast smash: avocado + feta mash, chili flakes, pepitas on hearty toast. Cold brew on the side. Yes.\n[ -0.4 ]  For some reason they keep the sugar behind the counter. You need to ask for it.\n[ -0.2916666666666667 ]  Avocado Benedict - either Bacon or Salmon - is to die for. You can have a hard time looking for a table or a space in the counter though.\n[ -0.19166666666666665 ]  The chicken + squash + arugula salad is a lunch I get at least once a week. Absolutely lovely with a hefty amount of dark and white chicken meat \ud83d\udc4c\ud83c\udffc\n[ -0.175 ]  Call me crazy, but if I'm in an Aussie cafe I'd really like at least one person serving to be Australian. #dissapointed\n[ -0.16666666666666666 ]  Gem of a coffee shop in corporate midtown east - they serve some serious automated pourover coffee\n[ -0.15833333333333333 ]  A must for breakfast takeout. Grabbing a table is impossible. The \"Pick Me Up\" is my goto breakfast sandwich. But add the \"Sweet Uncle Fred\" to whatever you order...it will make your day.\n[ -0.125 ]  Sharp joint in Midtown East. Get a piccolo latte (cortado), and eat the cookie they put on the plate.\n[ -0.10625000000000001 ]  Get a flat white and a Sweet Uncle Fred and you won't be disappointed.\n[ -0.10178571428571428 ]  top 3 flat white in the city \ud83d\udc4d\ud83c\udffc\ud83d\udc4d\ud83c\udffc too small for working - even eating is a bit uncomfortable due to small tables. but get FW to go and savor it while walking around the city!\n"
                }
            ], 
            "source": "negative_df = sentiments_df[(sentiments_df['Polarity'] < -0.1)].sort_values('Polarity')\n\nfor index, row in negative_df[['Polarity', 'Text']].iterrows():\n    print(\"[\", row[0], \"] \", row[1])"
        }, 
        {
            "source": "## Discussion / Observations\n\n- It seems that the sandwich preferences are spread across multiple choices.\n- The flat white coffee is mentioned a lot. It seems to be a coffee speciality from Australia.\n- We can see that some consider it to be very crowded in the peak times but they consider the service to be friendly.\n- Another popular option seems to be `The Sweet Uncle Fred` which seems to be a `combination of banana bread, ricotta, honey, and berries`\n- From the above two clusters we can deduce that another popular choice is the avocado toast\n- It looks like for this cluster, the `piccolo latte` is often paired with the `olive oil cake`.", 
            "cell_type": "markdown", 
            "metadata": {}
        }, 
        {
            "source": "From the sentiment analysis we can see that the overall objective sentiment score is 21% in the positive side.\nThe sentiments extraction is not always right as it can be seen in the first example of the negative sentiments:\n\n```\nBreakfast smash: avocado + feta mash, chili flakes, pepitas on hearty toast. Cold brew on the side. Yes.\n```\n\nMaybe it was confused by the word \"smash\" and/or \"cold\".\n\nBut there are some valid points like \"eating is a bit uncomfortable due to small tables\"", 
            "cell_type": "markdown", 
            "metadata": {}
        }, 
        {
            "source": "## Conclusions\n\nJust by looking at the clusters we can describe the venue as follows:\n\nMidtown Australian coffee shop with very friendly service, crowded at peak times.\nIt is prefered mostly for the breakfast, but also for lunch.\n\nThe avocado toast seems to be one of the most popular choice and The Sweet Uncle Fred is also appreciated.\n\nA popular combination is `picollo latte and oliv oil cake`.\n\nIn general, the shop is already doing great and I could not see too many negative points about it, except being crowded at peak hours.\nIt could be a good idea to make some special offers out of those popular combinations or to try to pair popular choices with not so popular ones to promote the later.\n    \nWhile the tips are not the best data source to draw conclusions about the top choices and combination (the orders receipts would serve better), it can still be used as a confirmation that some combinations are indeed appreciated and not just ordered together.", 
            "cell_type": "markdown", 
            "metadata": {}
        }
    ], 
    "metadata": {
        "kernelspec": {
            "display_name": "Python 3.5", 
            "name": "python3", 
            "language": "python"
        }, 
        "language_info": {
            "mimetype": "text/x-python", 
            "nbconvert_exporter": "python", 
            "version": "3.5.5", 
            "name": "python", 
            "file_extension": ".py", 
            "pygments_lexer": "ipython3", 
            "codemirror_mode": {
                "version": 3, 
                "name": "ipython"
            }
        }
    }, 
    "nbformat": 4
}